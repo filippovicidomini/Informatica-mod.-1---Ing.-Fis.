{
  "nbformat": 4,
  "nbformat_minor": 0,
  "metadata": {
    "kernelspec": {
      "display_name": "Python 3",
      "language": "python",
      "name": "python3"
    },
    "language_info": {
      "codemirror_mode": {
        "name": "ipython",
        "version": 3
      },
      "file_extension": ".py",
      "mimetype": "text/x-python",
      "name": "python",
      "nbconvert_exporter": "python",
      "pygments_lexer": "ipython3",
      "version": "3.8.5"
    },
    "varInspector": {
      "cols": {
        "lenName": 16,
        "lenType": 16,
        "lenVar": 40
      },
      "kernels_config": {
        "python": {
          "delete_cmd_postfix": "",
          "delete_cmd_prefix": "del ",
          "library": "var_list.py",
          "varRefreshCmd": "print(var_dic_list())"
        },
        "r": {
          "delete_cmd_postfix": ") ",
          "delete_cmd_prefix": "rm(",
          "library": "var_list.r",
          "varRefreshCmd": "cat(var_dic_list()) "
        }
      },
      "types_to_exclude": [
        "module",
        "function",
        "builtin_function_or_method",
        "instance",
        "_Feature"
      ],
      "window_display": false
    },
    "colab": {
      "name": "09_dictionaries_nosols.ipynb",
      "provenance": [],
      "include_colab_link": true
    }
  },
  "cells": [
    {
      "cell_type": "markdown",
      "metadata": {
        "id": "view-in-github",
        "colab_type": "text"
      },
      "source": [
        "<a href=\"https://colab.research.google.com/github/filippovicidomini/Informatica-mod.1_Ing.Fis./blob/main/09_dictionaries_nosols.ipynb\" target=\"_parent\"><img src=\"https://colab.research.google.com/assets/colab-badge.svg\" alt=\"Open In Colab\"/></a>"
      ]
    },
    {
      "cell_type": "markdown",
      "metadata": {
        "id": "bhotLJMF_ALx"
      },
      "source": [
        "# Book Reference\n",
        " - How to Think Like a Computer Scientist: The content of this lesson roughly correspond to chapter 11.1-11.5 \n",
        " - A Primer on Scientific Programming with Python: chapter 6.1"
      ]
    },
    {
      "cell_type": "markdown",
      "metadata": {
        "id": "YENTDYJr_ALy"
      },
      "source": [
        "# Dictionaries\n",
        "\n",
        "In Python there is another important built-in type, called **dictionary**. \n",
        "\n",
        "We can think of a dictionary as a more general list, where the indices can be (almost) any type, not only ```int``` types.\n",
        "\n",
        "A dictionary contains a collection of (**key-value pair**). More specifically:\n",
        "\n",
        "1. a collection of *distinct* indices, which are called **keys**;\n",
        "2. a collection of **values**, where each key is associated with a single value .\n",
        "\n",
        "In mathematical language, a dictionary represents a mapping  $keys \\rightarrow values$, so you\n",
        "can also say that “each key maps to a value”. \n",
        "\n",
        "As an example, we can build a dictionary that\n",
        "maps from English to Italian words, so the keys and the values are all strings.\n",
        "\n"
      ]
    },
    {
      "cell_type": "code",
      "metadata": {
        "id": "e3mAv6VI_ALz",
        "outputId": "a3b1514d-e7a1-4cc3-850a-de5ee36e22ee",
        "colab": {
          "base_uri": "https://localhost:8080/"
        }
      },
      "source": [
        "eng2ita = {}              # definition of an empty dictionary\n",
        "# eng2ita = dict()        # alternative definition\n",
        "\n",
        "eng2ita['one'] = 'uno'    # this statement adds a pair\n",
        "eng2ita['two'] = 'due'    # this statement adds a pair\n",
        "\n",
        "print(eng2ita)\n",
        "\n",
        "print('******************')\n",
        "eng2ita = {'one' : 'uno',  'two' : 'due', 'three' : 'tre'} # initialize with 3 key-value pairs\n",
        "for k in eng2ita:  # scan a dictionary for keys\n",
        "    print(k, \"-->\", eng2ita[k])\n",
        "print('******************')\n",
        "print(eng2ita)\n",
        "print(eng2ita.keys())\n",
        "print(eng2ita.items())\n",
        "print(eng2ita.values())"
      ],
      "execution_count": null,
      "outputs": [
        {
          "output_type": "stream",
          "text": [
            "{'one': 'uno', 'two': 'due'}\n",
            "******************\n",
            "one --> uno\n",
            "two --> due\n",
            "three --> tre\n",
            "******************\n",
            "{'one': 'uno', 'two': 'due', 'three': 'tre'}\n",
            "dict_keys(['one', 'two', 'three'])\n",
            "dict_items([('one', 'uno'), ('two', 'due'), ('three', 'tre')])\n",
            "dict_values(['uno', 'due', 'tre'])\n"
          ],
          "name": "stdout"
        }
      ]
    },
    {
      "cell_type": "markdown",
      "metadata": {
        "id": "Kq36PAvd_AL3"
      },
      "source": [
        "The ```len()``` function works on dictionaries too, and returns the number of key-value pairs.\n",
        "\n",
        "Also the operator ```del```  works on dictionaries, and also the `pop()` operator, with the added features that you can provide a default value if the item is not present.\n",
        "\n",
        "The ```in``` operator works on dictionaries too, and tells us whether something appears as a *key*\n",
        "in the dictionary.\n",
        "\n",
        "To see whether something appears as a *value* in a dictionary, you can use the method ```.values()```  which returns a collection of values, and then use the ```in``` operator. The method `.items()` returns a list of tuples containing `(key, value)` for each item.\n",
        "\n",
        "For dictionaries, Python uses a technique called **hashtable** that has a remarkable property:\n",
        "the ```in``` operator takes about the **same amount of time** no matter how many items are\n",
        "in the dictionary keys. We noticed that the same doesn't hold for lists, where the search is linear (as in principle a list is not sorted), and thus becomes very expensive on long lists.\n",
        "\n",
        "On the other hand the keys of a dictionary **are not ordered**."
      ]
    },
    {
      "cell_type": "code",
      "metadata": {
        "id": "VvIlNVYh_AL4"
      },
      "source": [
        "eng2ita = {'one' : 'uno',  'two' : 'due', 'three' : 'tre'} \n",
        "print(len(eng2ita))\n",
        "print('one is in eng2ita keys?','one' in eng2ita)   # 'one' is a key\n",
        "print('uno is in eng2ita keys?', 'uno' in eng2ita)  # 'uno' is not a key\n",
        "\n",
        "vals = eng2ita.values()  # return a collection of values, on which you can apply operator in\n",
        "\n",
        "print(vals)\n",
        "print('uno is in eng2ita values?', 'uno' in vals)     # 'uno' is found among the values \n",
        "\n",
        "print(eng2ita, \"before del\")\n",
        "if 'one' in eng2ita:\n",
        "    del eng2ita['one']       # remove the element with key 'uno'\n",
        "print(eng2ita, \"before pop\")\n",
        "rem = eng2ita.pop(\"four\", \"No Element\")\n",
        "print(rem)\n",
        "\n",
        "print(eng2ita, \"after first pop\")\n",
        "rem = eng2ita.pop(\"three\", \"No Element\")\n",
        "print(rem)\n",
        "print(eng2ita, \"after second pop\")"
      ],
      "execution_count": null,
      "outputs": []
    },
    {
      "cell_type": "markdown",
      "metadata": {
        "id": "hcOyG_po_AL8"
      },
      "source": [
        "A key in a dictionary can contain any kind of non mutable data. Recall a non mutable data is a constant that can not change with time. An int or a string is non mutable. A list is mutable. So you can use integers, floats, strings as keys in a dictionay, but not a list or another dictionary. Keys can be of different types, as well as values."
      ]
    },
    {
      "cell_type": "code",
      "metadata": {
        "id": "HdBnlaeS_AL8"
      },
      "source": [
        "d = {}\n",
        "d[1] = 'uno'\n",
        "d['one'] = 'uno'\n",
        "print(d) # note that you can have mixed keys (integer or string in this case)\n",
        "         # note also you can have the same value on two different keys\n",
        "d['one'] = 'Uno'  # you can't have two equal keys, this is replacing old value\n",
        "print(d)\n",
        "mylist = [1,2,3]\n",
        "d[mylist] = \"list\"  # this will not work!"
      ],
      "execution_count": null,
      "outputs": []
    },
    {
      "cell_type": "markdown",
      "metadata": {
        "id": "kXnX0PQZ_AL_"
      },
      "source": [
        "Dictionaries (as other data structures) can be nested to create multi-dimensional data matrices. You can use multiple `[]` operators to access inner elements of a nested dictionary. "
      ]
    },
    {
      "cell_type": "code",
      "metadata": {
        "id": "luAcvy1n_AMA",
        "outputId": "c4cc90fb-c781-4ea3-d5d5-b16eb914a7f5",
        "colab": {
          "base_uri": "https://localhost:8080/"
        }
      },
      "source": [
        "\n",
        "d = {}\n",
        "d[0] = {}\n",
        "d[0][1] = 1\n",
        "print(d)\n",
        "print(d[0]) # d[0] is a dictionary itself\n",
        "print(d[0][1])  # d[0] can be indexed, so that d[0][1] takes the value mapped to \"1\" in d[0] dictionary"
      ],
      "execution_count": null,
      "outputs": [
        {
          "output_type": "stream",
          "text": [
            "{0: {1: 1}}\n",
            "{1: 1}\n",
            "1\n"
          ],
          "name": "stdout"
        }
      ]
    },
    {
      "cell_type": "markdown",
      "metadata": {
        "id": "Yang-3-J_AMH"
      },
      "source": [
        "Note however that a nested dictionary is not a pre-built multi-dimensional data type: the fact you can use `d[0][1]` is simply because `d[0]` is *accidentally* a dictionary with a numeric index `1`. You should not expect to have preset indexes if you did not create them."
      ]
    },
    {
      "cell_type": "code",
      "metadata": {
        "id": "K2mohypp_AMH"
      },
      "source": [
        "# counter example\n",
        "d = {}\n",
        "d[0] = {}\n",
        "d[0][1] = 1\n",
        "print(d[0][1])  # OK\n",
        "print(d[0][2])  # NOK!"
      ],
      "execution_count": null,
      "outputs": []
    },
    {
      "cell_type": "markdown",
      "metadata": {
        "id": "gpWZubJC_AML"
      },
      "source": [
        "### A dictionary to build a histogram\n",
        "\n",
        "Suppose you are given a string and you want to count how many times each letter appears.\n",
        "Or you have a collection of words, and you want to count how many times each word appears in the collection.\n",
        "\n",
        "You could create a **dictionary** with the *elements to count* as **keys** and *counters* as the corresponding\n",
        "**values**. The first time you see a given element, add the element to the dictionary, with value equal to 1. After that, you would increment the value of the existing element.\n",
        "\n",
        "An advantage of the **dictionary implementation** is that we\n",
        "don’t have to know ahead of time which element appear in the collection, and we only have to\n",
        "make room for elements that do appear.\n",
        "\n",
        "In the following we thus define a function ```histogram(elems)```, which is a *statistical term* for a collection of counters (or *frequencies*). We then apply the function to the collection of words of the book: *Alice in Wonderland*."
      ]
    },
    {
      "cell_type": "code",
      "metadata": {
        "id": "SU95Gnb__AML",
        "outputId": "4cc7196d-4169-4b9f-dc3e-ce94d543843b",
        "colab": {
          "base_uri": "https://localhost:8080/"
        }
      },
      "source": [
        "\n",
        "\n",
        "lorem = \"\"\"Lorem ipsum dolor sit amet, consectetur adipiscing elit. Nullam consequat, elit non rhoncus dictum, leo lacus egestas quam, nec posuere ligula augue vitae erat. Nulla elit magna, dapibus vel augue eu, molestie mattis ex. Ut ut finibus elit. Nulla non dignissim dolor. Nam fringilla dui nisl, vitae gravida orci rutrum vel. Mauris egestas quis ex quis mattis. Pellentesque habitant morbi tristique senectus et netus et malesuada fames ac turpis egestas. Etiam libero sapien, tincidunt vel tempus quis, porttitor id tortor. Duis tortor purus, eleifend non magna eget, cursus consectetur magna. Phasellus et efficitur elit, nec luctus eros. Praesent rutrum lorem id lorem bibendum, a accumsan orci eleifend.  Aenean in massa laoreet, porttitor eros eu, tempor lacus. Pellentesque laoreet, enim at interdum egestas, lorem eros pulvinar turpis, rutrum convallis arcu augue non purus. Cras velit massa, varius nec ipsum vitae, efficitur ultrices eros. Aliquam gravida aliquam accumsan. Quisque mollis ut sem et eleifend. Vestibulum eu lectus nec dolor rhoncus ultrices. Vestibulum lacus lacus, luctus nec sem eget, pharetra elementum diam. Aliquam eleifend ante orci, at rutrum ligula posuere sed. In eu nisi in dui aliquam mattis ac viverra libero. Ut ultricies efficitur nunc, at vulputate risus vestibulum et. Donec ullamcorper non ex non volutpat. Praesent posuere dolor a pretium tristique. Phasellus rutrum tellus at accumsan tristique.  Praesent sed tincidunt turpis, fermentum ullamcorper metus. Vivamus a tincidunt quam. Sed volutpat, lorem sed pulvinar porta, nisl erat scelerisque neque, et gravida arcu est nec metus. Integer mattis efficitur magna at varius. Phasellus fermentum ipsum suscipit, pretium lorem non, aliquam massa. Integer quam sapien, ultricies sollicitudin imperdiet id, laoreet quis massa. Vivamus nec porta lacus. Nam sit amet metus magna. Nullam ut massa in nisi placerat porttitor. Vivamus facilisis facilisis lectus. Cras mi purus, semper ac consequat eu, iaculis in erat.  Donec eget orci at leo lacinia elementum. Sed egestas sodales lorem condimentum rutrum. Ut rutrum elit diam. Etiam auctor sed velit non consectetur. Sed porttitor neque ac purus tempor, non fringilla purus fermentum. Vivamus tincidunt ac nisi ut facilisis. Sed vehicula lacinia elit. Sed a libero libero. Nam sed lectus consequat nibh rutrum convallis. Nulla blandit metus fringilla, commodo felis et, egestas dui. Vestibulum elementum vitae nulla et fringilla. Nulla pharetra tristique ornare. Mauris viverra, diam nec congue feugiat, massa dolor bibendum neque, sed sodales risus lectus non risus. Pellentesque placerat pretium ligula.  Suspendisse tincidunt nisl a libero maximus, et ultricies lorem suscipit. Phasellus ac dignissim odio, sit amet mattis felis. Fusce blandit eget augue eget commodo. Etiam id eros eu velit gravida commodo. Duis lectus lectus, commodo a risus ac, congue auctor metus. Integer a nisi nisl. Aliquam dui ante, luctus eu ante aliquam, egestas posuere quam. Vestibulum non varius ante, et aliquam orci. Curabitur et ex fringilla libero sodales consectetur eu vel eros. Sed nec ante lorem. Suspendisse tincidunt nibh vel semper euismod.  Duis quis malesuada orci. In eu laoreet nisi, sit amet tristique augue. Praesent aliquet, justo eu ultricies accumsan, leo lectus vehicula dui, non malesuada urna dolor sit amet dolor. Mauris quis lectus gravida purus dapibus tristique eget vitae nibh. Aenean sed magna a mi fermentum venenatis eu non felis. Fusce sed dolor aliquet, tristique augue in, tempus justo. Aliquam ultricies ligula eget quam commodo, et feugiat tortor pulvinar. Donec ipsum nisl, euismod vitae est sit amet, mattis dignissim massa. Aenean porta pellentesque risus sit amet dictum. Curabitur eget accumsan tellus. Sed at ultricies purus. Fusce elementum, odio id dictum laoreet, sapien dui aliquet leo, vel vulputate mi sem in elit. Quisque id sodales massa. Duis fermentum sapien sed mi aliquet tincidunt. Maecenas porttitor aliquet sapien. Quisque luctus accumsan est, sed rhoncus nisi pharetra convallis.  Donec ut finibus neque, non congue dui. Integer pellentesque, orci id feugiat pharetra, dolor nunc elementum erat, sit amet suscipit ipsum tellus cursus tortor. Sed sit amet ex commodo, congue orci a, facilisis orci. Cras dignissim arcu sed semper bibendum. Nunc consequat enim enim, sed scelerisque turpis iaculis sed. Nullam non nunc vehicula, maximus risus et, mattis lorem. Etiam pellentesque risus at aliquet pulvinar. Duis ultrices, nisi vel sodales egestas, turpis nulla vehicula justo, eu congue tortor tortor eu felis. Ut vitae felis sit amet nulla vehicula vestibulum eget ut mi. Nullam laoreet libero sit amet ex volutpat eleifend. Etiam hendrerit consequat enim, eu aliquam eros rutrum et. Maecenas lobortis porta gravida. Lorem ipsum dolor sit amet, consectetur adipiscing elit. Sed consequat nec est nec commodo. Nunc vel lobortis orci. Etiam placerat nec sem a tincidunt.  Nullam hendrerit, arcu eget viverra mattis, dui erat commodo risus, vel pellentesque velit ex in risus. Fusce nibh est, molestie id facilisis a, mollis ut odio. Phasellus accumsan varius vulputate. Integer tincidunt sapien ac mauris lobortis ornare. Donec erat leo, sodales et pharetra non, iaculis a urna. Mauris ac tempus dolor, a laoreet purus. Ut pharetra eleifend felis eget venenatis. Integer semper risus lectus, eget eleifend odio interdum at. Maecenas tempus congue lorem, eget posuere lectus pretium id. Vestibulum eget ante pretium, laoreet felis eu, vestibulum sem.  Pellentesque luctus ac justo consequat blandit. In porta sit amet mauris maximus accumsan. Mauris lobortis molestie libero vel aliquet. Aenean nec ex a ligula porta tempus. Nunc eget erat hendrerit nisl volutpat rhoncus eu vitae ipsum. Praesent eu dictum mi, a tincidunt justo. Integer eu sem convallis, pellentesque felis id, consequat ante. Maecenas a mauris nibh. Morbi suscipit velit vel urna varius, non elementum lacus lacinia. Praesent facilisis tristique purus vitae tincidunt. Pellentesque tincidunt condimentum tortor sed rhoncus. Cras hendrerit, metus eget sodales fringilla, metus urna feugiat odio, quis pellentesque quam mi sed tellus.  Class aptent taciti sociosqu ad litora torquent per conubia nostra, per inceptos himenaeos. Cras sed ultricies orci, at molestie lorem. Praesent sodales ut nisl at maximus. Class aptent taciti sociosqu ad litora torquent per conubia nostra, per inceptos himenaeos. Donec nec dapibus lectus. Donec molestie, lorem id vulputate sollicitudin, velit dui finibus orci, vel ultricies nisi enim a mauris. Nullam rutrum accumsan purus, a vehicula neque tempus non. Etiam semper blandit quam, et convallis metus rutrum eget. Curabitur nec odio ac purus vulputate bibendum. Nulla ac varius purus. Curabitur sagittis consectetur leo, volutpat euismod justo accumsan in.  Nunc non gravida massa. Curabitur ornare ac lorem quis facilisis. Fusce luctus libero mauris, in tincidunt metus laoreet vel. Duis non tristique leo. Mauris efficitur diam odio, eget posuere nulla interdum ut. Maecenas quis dolor eget metus tincidunt blandit at ut ipsum. Fusce eu risus ex. Vivamus eu ante interdum, iaculis ante at, rhoncus ipsum.  Nullam eleifend elit vel libero tempor pulvinar. Aenean eleifend ligula augue. Fusce nec massa ante. Praesent at risus arcu. Interdum et malesuada fames ac ante ipsum primis in faucibus. Ut eget mi hendrerit, lacinia nisi et, cursus lectus. Integer dui urna, dapibus non dolor non, finibus interdum sapien. Praesent fermentum est eget nisi ultrices porta. Maecenas vitae massa auctor, viverra nisl vitae, pulvinar sem. Donec accumsan lacinia metus quis euismod.  Fusce lacinia vel sapien ac rhoncus. Etiam pretium arcu non lorem venenatis, sed condimentum lorem ultricies. Aliquam non eleifend quam. Vivamus ac accumsan urna. Quisque pellentesque condimentum pharetra. Nulla volutpat justo vitae nisl mattis viverra. Praesent blandit tellus vitae metus interdum facilisis.  Aliquam erat volutpat. Pellentesque id eros sit amet turpis elementum vestibulum quis semper est. Vestibulum ante ipsum primis in faucibus orci luctus et ultrices posuere cubilia curae; Duis congue lorem sed ligula tincidunt auctor. Fusce sollicitudin libero et rhoncus suscipit. Curabitur gravida malesuada aliquam. Suspendisse tincidunt lorem sed dolor pulvinar, sit amet scelerisque risus interdum. Praesent posuere tempor blandit.  Curabitur feugiat diam sit amet tincidunt mattis. Praesent quis justo dignissim, efficitur nisl eleifend, pretium ligula. Cras molestie magna id elementum tempus. Sed vehicula cursus congue. Integer vel enim in nunc mattis commodo sit amet sed massa. Morbi vitae justo libero. Phasellus hendrerit aliquet nisl et consectetur. Etiam luctus molestie porttitor. In tempor orci sed leo convallis, non tincidunt velit iaculis. Nunc finibus sit amet metus in sagittis. Vivamus fringilla nisi eu dignissim imperdiet. Nunc aliquam luctus massa eget sollicitudin. Maecenas ac nibh vel purus egestas dapibus. Mauris rutrum sollicitudin elit id aliquam.  Duis tempus semper lobortis. Suspendisse tortor odio, imperdiet et lectus et, consequat tristique ante. Nunc maximus finibus velit. Aenean consectetur orci convallis maximus vestibulum. In nec iaculis augue. Pellentesque consectetur eleifend augue, eget fermentum turpis tristique quis. Proin fermentum nibh eget porttitor maximus. Nunc ornare tellus libero, sit amet eleifend tellus mattis id. Donec tincidunt vestibulum lobortis. Duis blandit mauris leo, eu sagittis odio mattis et. Nam in libero in turpis pulvinar iaculis. Nulla auctor, quam at posuere posuere, ipsum arcu egestas felis, non tristique dui mi ut enim. Donec a est nisl. Integer eu arcu tristique leo aliquet facilisis quis quis nunc. Proin sollicitudin ante eu orci fermentum elementum. Nam sit amet lacinia nisl.  Nunc eu congue augue. Pellentesque semper, sem imperdiet scelerisque molestie, metus felis consequat tellus, imperdiet lobortis sapien odio quis nulla. Donec tortor dui, blandit in imperdiet quis, laoreet et libero. Nunc eget consequat lacus. Nam vitae accumsan mi. Phasellus aliquet, dolor ac finibus mollis, neque enim ultrices leo, a porta leo nibh eu arcu. Morbi ultrices orci massa, et elementum dolor fringilla sed. Cras tellus lectus, ullamcorper in ornare pretium, efficitur pharetra massa. Sed consequat felis quam, sed pharetra purus bibendum sed.  Vivamus metus dui, posuere in tellus in, ultricies cursus odio. Proin sodales turpis tellus. Integer faucibus pulvinar sem eu vestibulum. Pellentesque urna ligula, laoreet a elementum eu, blandit ut ipsum. Praesent condimentum rutrum sapien, in pellentesque odio consectetur ac. Vestibulum vel dui dui. Sed vitae risus nec nunc ultricies malesuada. Curabitur convallis neque turpis, sed gravida nunc ultricies sed. Aliquam rutrum tellus non interdum gravida. Phasellus feugiat finibus tempus. Nunc maximus fermentum eros non mollis. In vitae elit urna. Nulla semper ex in est vestibulum, ac lacinia dolor tempor. Nulla leo odio, tempus non magna vehicula, volutpat volutpat sapien. Etiam a fermentum ligula.  Curabitur eget nibh dui. Nullam nec faucibus ipsum. Donec id blandit nibh. Nunc non arcu cursus, efficitur purus at, pharetra nisi. Fusce eu odio viverra, sagittis lorem eu, vulputate orci. Nam condimentum nibh sit amet ante auctor dictum eget ac dui. Duis gravida vitae libero id lacinia. Morbi elementum tincidunt urna, non bibendum enim eleifend non. In hac habitasse platea dictumst. Integer eget congue neque. Nam id velit quis eros feugiat finibus. Proin accumsan nulla sed elit malesuada varius. Integer consequat lorem eu dui sagittis laoreet. Suspendisse tortor libero, rhoncus at congue vitae, fermentum quis turpis. Aenean sodales eros eget lacinia feugiat. Nam efficitur accumsan laoreet.  Donec et magna vitae ex commodo tempus ac vel nulla. Nam facilisis massa eget pellentesque imperdiet. Aenean at porta enim. Suspendisse lacinia vitae leo at molestie. Fusce porttitor volutpat viverra. Aliquam at elementum diam, non ullamcorper erat. Aliquam tristique tempor est, non dapibus ante tincidunt in. Sed at malesuada tortor. Ut arcu dolor, convallis id consectetur non, mattis non est. Nulla ut tincidunt mauris. Integer sit amet sagittis neque.  Integer gravida elit tellus, sed sagittis arcu auctor at. Nunc tempor ac sem ut varius. Nulla facilisi. Nulla vitae augue ut leo ullamcorper venenatis non ac urna. Curabitur at pharetra nunc. Proin faucibus interdum est, sed placerat ligula luctus in. Vestibulum tempus elit vel fermentum venenatis. Aliquam fringilla, purus eget sagittis imperdiet, nunc leo cursus justo, eget pharetra neque diam id libero. Etiam sed iaculis felis. Etiam id erat lorem. Aenean quis placerat lorem. Vestibulum dapibus porttitor commodo.  Aenean varius, justo lacinia commodo posuere, ante ex egestas mauris, in sagittis erat ligula ac augue. In fringilla ex eros, vel vulputate justo consequat ut. Nunc vitae odio sed tellus suscipit efficitur. Proin ut ullamcorper libero, at mattis dui. Duis libero leo, ultricies at massa cursus, dictum tristique mauris. Donec et fringilla leo, et gravida urna. Duis euismod sagittis neque vel interdum. Nulla dui lacus, bibendum non convallis in, iaculis sit amet arcu. Praesent justo diam, mattis at mollis nec, accumsan a dui. Nam dictum, massa sed convallis fermentum, erat lorem commodo odio, sit amet posuere ex sem a massa. Integer condimentum magna ligula, sit amet consectetur purus molestie blandit. Sed non commodo eros. Donec ac libero nec mauris egestas rutrum sed vitae neque. Mauris turpis mauris, mattis non ultrices ut, finibus imperdiet turpis.  Vivamus posuere sodales lectus. Duis dapibus nisi in felis euismod blandit. Nunc ullamcorper congue ipsum sit amet rutrum. Etiam vulputate ut est sit amet semper. Donec laoreet consectetur neque, non rhoncus metus pellentesque ut. Cras sagittis lorem at nunc posuere pharetra vitae at arcu. In ac viverra nisi. Suspendisse aliquam malesuada nisi. Praesent convallis vestibulum placerat. Ut mollis leo sit amet placerat vehicula. Cras ut placerat enim. In hac habitasse platea dictumst. Interdum et malesuada fames ac ante ipsum primis in faucibus. Sed maximus rhoncus diam.  Aliquam consectetur rhoncus magna, vitae ultrices purus efficitur id. Praesent ut mi diam. Duis non metus luctus, convallis lorem at, mattis risus. Quisque quis leo et turpis ullamcorper ultricies. Nunc vel leo quis ipsum porttitor convallis sit amet ut nunc. Ut blandit lacus eu nisi lobortis pharetra. Orci varius natoque penatibus et magnis dis parturient montes, nascetur ridiculus mus.  Nulla at augue nibh. Nam placerat a est a vehicula. Aenean ut congue nisl. Nullam at sagittis velit. Phasellus at quam at nisi volutpat interdum ut non urna. Nullam sodales, nisl at dictum auctor, mi purus malesuada magna, et aliquet dui odio ac orci. Vivamus mattis tortor diam, nec mattis sapien venenatis vitae. Morbi ut leo sem.  Quisque cursus nisl in purus gravida condimentum. Proin ornare, orci id feugiat posuere, ipsum metus gravida diam, vel aliquam nunc nibh eu quam. Suspendisse in odio vel risus rhoncus blandit quis sed ligula. Aenean posuere ante in accumsan vehicula. In in fringilla nisl. Phasellus quis orci turpis. Maecenas maximus, augue gravida malesuada dictum, enim orci gravida lorem, et vestibulum diam ligula sed felis. Mauris a ligula vitae felis luctus luctus. Duis posuere diam vitae dui vehicula vulputate. Class aptent taciti sociosqu ad litora torquent per conubia nostra, per inceptos himenaeos. Ut posuere sapien neque, non elementum nunc auctor et. Interdum et malesuada fames ac ante ipsum primis in faucibus. Sed a ultrices elit. Donec elementum erat erat, quis pellentesque augue blandit ut. Praesent turpis elit, consequat at orci sed, feugiat hendrerit ligula. Ut et eros pharetra, blandit metus vel, egestas sem.  Nam porttitor consequat nisl non consequat. Nam aliquam nulla at ante feugiat varius. In a turpis faucibus, efficitur neque finibus, tempus nisi. Sed quis nisl luctus, dignissim enim vitae, vulputate enim. Morbi ac erat molestie, posuere leo auctor, aliquam ipsum. Vestibulum porta ac neque id scelerisque. Nullam ligula elit, aliquet sit amet porttitor vitae, mollis nec elit. Nam congue vitae lacus non varius. Donec ante orci, faucibus in tincidunt in, malesuada sed velit. Quisque nec quam imperdiet, accumsan dolor vel, maximus eros.  Sed augue mi, rutrum et orci at, congue sagittis nibh. In faucibus risus sem, et consectetur risus sodales vel. Duis vehicula id orci et posuere. Praesent iaculis faucibus tellus vel tincidunt. Pellentesque fringilla ligula et mauris placerat semper. Praesent sed erat pharetra, sodales ante vel, vulputate orci. Morbi sagittis sit amet lectus non accumsan. Aliquam feugiat, augue quis laoreet efficitur, lectus nibh cursus diam, ut euismod dui eros in neque. Phasellus placerat nec ex quis blandit. Donec magna odio, pellentesque vel nisi in, rutrum mattis augue. Mauris mi purus, congue a vestibulum id, ultricies sed neque.  Pellentesque vitae est vestibulum, feugiat quam sit amet, malesuada metus. Morbi egestas, elit placerat imperdiet malesuada, enim purus interdum dolor, condimentum aliquam purus nisi a est. Quisque at purus lectus. Vestibulum ornare ut sapien non ullamcorper. Suspendisse lectus magna, venenatis ut dui id, dignissim egestas ex. Aliquam vulputate tincidunt molestie. Phasellus efficitur vitae nulla in sodales.  Suspendisse eget ante aliquet, porta enim ac, elementum massa. Cras sit amet semper lorem. Nullam egestas urna dui, ut egestas eros hendrerit id. Maecenas commodo quam nunc, quis ullamcorper lorem varius a. Integer sagittis odio in dolor suscipit pharetra. Vivamus elementum, nunc sit amet pharetra condimentum, justo lorem consequat elit, vel venenatis purus augue sed sem. Aenean suscipit sed justo eget placerat. Nunc laoreet nisi eget lorem rutrum facilisis. Integer venenatis metus vestibulum lacus aliquet, sed finibus enim euismod.  Proin congue imperdiet eleifend. In in urna ligula. Phasellus accumsan nibh auctor tortor posuere hendrerit. Duis vehicula, augue at aliquet aliquam, neque augue interdum velit, laoreet tincidunt felis est a dolor. Suspendisse potenti. Proin venenatis eros et urna tincidunt finibus. Vestibulum ante ipsum primis in faucibus orci luctus et ultrices posuere cubilia curae; Vivamus laoreet erat sit amet ex porta, quis semper neque consectetur. Phasellus vel egestas augue, ut viverra massa. Duis ut ipsum ac eros viverra hendrerit sit amet quis dui. Phasellus in massa sed ligula dictum imperdiet non in quam.  Vestibulum pharetra nulla ac nulla dictum, quis auctor enim sodales. Nam scelerisque elementum consectetur. Vivamus sed elit luctus, porta neque vitae, gravida est. Nullam vel arcu dignissim, sodales velit sed, placerat eros. Cras ligula mi, dapibus vel lacinia sed, iaculis quis sem. Aliquam in nulla mauris. Donec sagittis posuere porttitor. Proin at neque nec orci laoreet hendrerit. Lorem ipsum dolor sit amet, consectetur adipiscing elit. Ut tempor sapien quis elit elementum ultrices. Orci varius natoque penatibus et magnis dis parturient montes, nascetur ridiculus mus. Proin euismod condimentum suscipit. Ut ut libero non nisl feugiat scelerisque quis eu ligula. Integer euismod gravida odio ut venenatis.  Pellentesque ut ultricies ante. Ut quis justo blandit, luctus felis dapibus, facilisis tellus. Morbi tristique accumsan odio eget porttitor. Phasellus in volutpat nisi, vel euismod metus. In dapibus ante nisi, a accumsan urna molestie nec. Aliquam ut mattis risus, at feugiat diam. Class aptent taciti sociosqu ad litora torquent per conubia nostra, per inceptos himenaeos. Maecenas vel aliquet purus. Cras laoreet pellentesque neque id gravida. Duis aliquam augue a nisl lacinia facilisis.  Cras sagittis urna ac placerat dictum. Quisque in varius sem. Etiam pulvinar elit non sapien finibus, eget congue purus ultricies. Nulla sit amet tempus magna, et dictum est. Nam at leo velit. Sed quis lacus ut ante placerat pulvinar a et diam. Curabitur maximus orci non sapien congue maximus. Nullam bibendum pretium lorem, id facilisis est consequat vitae. Suspendisse efficitur arcu dolor, nec suscipit lacus efficitur a. Maecenas sapien eros, porta id elit ut, malesuada rutrum ligula.  Etiam volutpat, nibh sit amet auctor venenatis, ligula ligula volutpat elit, ac fermentum tortor nisl auctor eros. Cras eleifend maximus nisl, id porttitor lectus dignissim sit amet. Aliquam nec nunc elit. Sed sed purus dignissim, vehicula elit ac, pellentesque neque. Nulla nec est sed metus commodo porta. Pellentesque ut velit tincidunt, varius leo ut, blandit dui. Cras ullamcorper nunc a mi scelerisque porta. Nulla sodales purus in odio consequat, sed suscipit justo ultricies. Aenean feugiat turpis ligula, quis gravida urna pharetra in. Nullam mattis lectus lacus, ac tincidunt justo placerat ut.  Ut mollis laoreet lorem, vel fermentum risus porta eu. Pellentesque dapibus, ipsum quis dictum suscipit, tortor nunc blandit nulla, et lacinia enim lacus ac tellus. Sed sed odio id libero pulvinar viverra eget at lectus. Class aptent taciti sociosqu ad litora torquent per conubia nostra, per inceptos himenaeos. Integer vitae quam non nisl eleifend eleifend ac in risus. Nulla non tempor quam. Nunc convallis est libero, id porta mi fringilla vel. Proin eros tellus, rutrum ac diam eleifend, mollis euismod turpis. Sed id erat rhoncus, eleifend ligula ac, finibus ipsum. Nulla lacinia tempus eleifend. Vivamus eget malesuada quam. Maecenas laoreet quis orci id dictum. Sed leo dolor, sodales quis metus molestie, ullamcorper porta risus.  Nullam tempor vulputate maximus. Donec accumsan ante eu neque auctor, ac finibus neque tempus. Sed a rhoncus felis, eget rhoncus mi. Cras iaculis dignissim bibendum. Ut lacinia nulla erat, non luctus lectus mattis vel. Phasellus euismod consectetur pellentesque. Nunc ac volutpat sapien. Nam ac bibendum nunc. Sed vehicula nunc quis massa congue lobortis. Cras nisi ipsum, sodales vitae vestibulum non, dapibus eu ipsum. Cras et tempor ipsum. Quisque sodales lacinia diam, eget eleifend tellus accumsan sit amet. Vivamus nec commodo massa. Mauris accumsan, erat in feugiat rutrum, neque ex finibus ligula, id porttitor sem nisl id justo. Fusce rutrum, nulla eget pharetra convallis, arcu nunc egestas lacus, at feugiat lacus sapien eu sapien.  In placerat quam in sapien consectetur, eget bibendum mi vehicula. Sed condimentum feugiat posuere. Integer ac felis pulvinar augue bibendum interdum. Ut lectus odio, pretium non posuere ac, tincidunt sed ante. Duis euismod orci id sapien sodales rhoncus. Vivamus leo elit, vehicula id sem ac, elementum venenatis arcu. Suspendisse dignissim viverra fringilla. Donec consectetur ligula quis mauris lobortis, at lacinia nisi sodales. Sed varius efficitur augue quis malesuada. Ut nec est at nulla feugiat imperdiet. Aliquam et odio dolor. Sed semper velit mauris, at porta est porttitor a. Donec a posuere ipsum, vitae volutpat dui. Nunc sit amet sapien tempus metus aliquam molestie vitae quis leo. Morbi venenatis fermentum ultricies. Morbi molestie erat ligula, eget iaculis nibh vestibulum vel.  Etiam vitae nunc sit amet magna gravida pulvinar id id metus. Quisque mauris leo, venenatis nec aliquet at, aliquam nec elit. Aliquam at dapibus sapien. Vivamus nisi orci, laoreet a rutrum ut, volutpat quis nunc. Curabitur ornare, tortor at gravida sagittis, quam urna vehicula lorem, sit amet porta nibh sapien ut ligula. Vivamus efficitur dui sit amet nibh placerat, in viverra tortor sagittis. Mauris ipsum diam, rutrum a lorem hendrerit, condimentum congue nisl. Suspendisse rhoncus euismod orci. Donec quis fermentum elit. Vestibulum at pellentesque purus. Phasellus sit amet dignissim augue. In commodo scelerisque efficitur. Aenean finibus, purus non tempor ullamcorper, nibh tortor commodo massa, consequat sagittis ipsum nisl sit amet metus. Vestibulum neque risus, pharetra et ligula eu, faucibus fringilla urna. Cras nec lobortis felis.  Quisque mollis risus libero, vel dignissim felis gravida sed. Nunc at quam efficitur, porta orci vel, dictum arcu. Aliquam quis placerat tortor. Vestibulum ultrices lorem est, at dignissim lorem porta eu. Nullam lacinia facilisis libero nec condimentum. Fusce eget tincidunt dui, eget mollis tortor. Nulla eget purus et felis pretium efficitur. Nam gravida fringilla ex, at finibus justo auctor id. Nulla et sem eget massa varius placerat vel ultrices orci. Vivamus sapien orci, blandit vel eros ut, mollis bibendum ligula. Phasellus faucibus maximus dapibus. Quisque dignissim lobortis sapien, quis auctor erat condimentum ut. Suspendisse potenti. Vestibulum ante ipsum primis in faucibus orci luctus et ultrices posuere cubilia curae; Quisque gravida accumsan rutrum.  Vestibulum vitae fermentum ipsum, et ullamcorper nulla. Suspendisse eu ante velit. Ut dignissim odio augue, at efficitur purus auctor et. Maecenas euismod elit ac eros rutrum, at accumsan ex tincidunt. Donec porttitor libero et turpis ornare, vel convallis augue ullamcorper. In hac habitasse platea dictumst. In auctor lectus a mi auctor, vulputate aliquam magna porta. Morbi sed nisi nunc. Cras ac tortor nec nibh convallis varius. Sed bibendum mattis metus, eu eleifend leo facilisis sed.  Aenean quis fermentum urna. Vivamus auctor viverra lectus, eu rhoncus lacus fermentum nec. Cras vitae libero non nunc tincidunt mollis at ut eros. Suspendisse pulvinar mauris tortor, non eleifend tellus faucibus id. Quisque laoreet pretium lorem a venenatis. Cras sapien nisi, iaculis sed diam quis, laoreet pellentesque risus. Nulla laoreet nec elit a egestas. Donec eget metus et enim scelerisque finibus. Mauris ut augue et eros molestie tincidunt vel at arcu. Quisque feugiat, augue in maximus vulputate, nibh augue tincidunt orci, sed accumsan leo neque at diam. Integer finibus at neque at pharetra. Etiam pulvinar elementum risus eget pharetra. Vestibulum ut libero eu nunc volutpat semper quis et massa.  Sed at lacus eget tortor egestas tristique fermentum in nulla. Lorem ipsum dolor sit amet, consectetur adipiscing elit. Quisque nec libero tempor, mattis nunc quis, faucibus sem. Praesent quis sapien eget magna faucibus feugiat eu vitae orci. Maecenas consequat ligula ultrices lectus iaculis commodo. Nam scelerisque risus purus. Vestibulum faucibus neque nisi. Cras sed lorem a ligula bibendum consectetur et ac eros. Fusce dolor nibh, congue nec arcu nec, cursus aliquet felis.  Nulla et lorem vel mi rhoncus laoreet in et risus. Suspendisse accumsan sapien et vestibulum ultrices. Donec mattis lobortis ante malesuada mattis. Nunc eu dignissim justo. Donec eget vestibulum odio. Morbi ac nisl eu purus ultricies convallis. In pharetra viverra velit, vitae consequat orci imperdiet et. Sed et ante volutpat, faucibus ligula porttitor, ullamcorper leo. Proin imperdiet nunc sit amet faucibus rutrum. Nunc vel velit volutpat, aliquam risus a, scelerisque nulla.  Nulla venenatis efficitur ultricies. Vestibulum enim ante, eleifend ac suscipit quis, imperdiet nec metus. Praesent ante metus, sagittis a fermentum sit amet, semper eget tellus. Etiam ornare arcu a ante pellentesque lacinia. Aliquam gravida sollicitudin orci a pretium. Duis volutpat porttitor pharetra. Etiam pretium fermentum diam, et egestas velit venenatis ac. Duis in sagittis enim, vitae blandit nibh. Suspendisse vitae molestie ligula. Vestibulum pellentesque sit amet purus et vehicula. Suspendisse dignissim lacus sit amet mollis tempus. Proin imperdiet consequat nulla vel faucibus.  Sed quam augue, posuere ut purus in, tristique aliquam libero. Quisque vel dui eu libero semper condimentum at vitae velit. Quisque dapibus metus augue. Praesent quis ligula vitae sapien efficitur tristique. Nullam tellus nibh, aliquet vel lorem in, finibus interdum nibh. Vestibulum ante ipsum primis in faucibus orci luctus et ultrices posuere cubilia curae; Etiam a quam in ex malesuada pellentesque bibendum eu dui. Mauris a est nisl. Praesent efficitur elementum luctus. Phasellus ut risus imperdiet, dignissim justo vel, mollis eros. Etiam et libero dapibus, facilisis dui nec, commodo orci. Suspendisse non libero libero. Vivamus volutpat, metus id consequat mattis, mauris velit maximus nibh, nec cursus orci sem quis libero. Integer lobortis at ligula eu dictum.  Phasellus cursus ac augue cursus malesuada. Ut sapien orci, sodales sed luctus sed, blandit id ex. Lorem ipsum dolor sit amet, consectetur adipiscing elit. Nulla mattis sem vitae aliquet elementum. Mauris non tellus tincidunt, interdum urna ut, porttitor purus. Morbi ac tellus non urna molestie convallis. Phasellus a pharetra nisi. Nullam quam erat, luctus et lectus vel, posuere lobortis odio. Duis quis faucibus purus. Nunc placerat eros pharetra sollicitudin pulvinar. Sed arcu augue, efficitur eget gravida vel, ornare sed dui. Vivamus pulvinar odio nibh, sed venenatis mi pretium vel. Cras egestas molestie eros. Sed venenatis augue justo, nec rutrum libero dignissim a. Ut semper, arcu at feugiat lacinia, augue enim fringilla velit, ut venenatis justo magna sed massa.  Sed tempus odio quis purus imperdiet interdum. Pellentesque a gravida arcu. Nunc dapibus massa orci, vitae fermentum diam ornare ac. Nulla facilisi. Nunc gravida sodales orci, eget sagittis neque suscipit sit amet. Class aptent taciti sociosqu ad litora torquent per conubia nostra, per inceptos himenaeos. In varius consequat tellus nec varius. Quisque vel tellus eu felis facilisis porta quis quis massa. Nulla malesuada orci eu sapien vehicula lobortis. Fusce scelerisque tincidunt risus rutrum convallis. Phasellus convallis iaculis velit, et egestas purus tempor vitae. Nullam velit odio, mollis a lectus eu, posuere bibendum ipsum. Phasellus tincidunt lacus congue, malesuada felis a, scelerisque massa. Praesent dictum, mauris nec imperdiet tristique, ipsum ante porttitor nunc, eu ullamcorper lectus risus quis erat. Morbi ac nibh sit amet erat ultricies pharetra. Aenean sit amet posuere tortor.  Praesent convallis condimentum accumsan. Mauris rhoncus, libero eget aliquet consequat, velit est tempus turpis, ac convallis tellus purus nec tellus. Phasellus ipsum velit, tempor sed mi id, vestibulum tempus felis. Donec rutrum elit congue eros tincidunt viverra. Pellentesque habitant morbi tristique senectus et netus et malesuada fames ac turpis egestas. Nam nunc ex, ultricies eget magna tempus, venenatis volutpat ligula. Nunc dapibus blandit dictum. Nulla ipsum dolor, posuere ac nunc ultricies, euismod varius libero.  Integer tempus volutpat neque quis placerat. Aliquam venenatis urna ac facilisis aliquam. Duis at tempus arcu. In accumsan porttitor suscipit. Maecenas rhoncus pellentesque justo, et tincidunt ante porta id. Donec dictum sagittis magna. Vivamus viverra, augue vel placerat fermentum, turpis nisi mollis ex, non hendrerit leo dolor eu diam. Phasellus urna purus, imperdiet eget metus sit amet, porttitor volutpat justo. Nunc sed sem dui. Sed laoreet volutpat purus a laoreet.  Fusce vestibulum bibendum commodo. Nunc ac pharetra ante. Quisque eu felis eget tortor vulputate vehicula eget vel turpis. Class aptent taciti sociosqu ad litora torquent per conubia nostra, per inceptos himenaeos. Ut quis nisi nulla. Nullam sed euismod ligula, id luctus ante. Suspendisse interdum facilisis metus vel tincidunt. Cras vel efficitur diam. Aenean placerat rhoncus velit, feugiat suscipit est varius quis.  Aenean ornare tincidunt felis sed faucibus. Sed a cursus ipsum. Etiam odio justo, aliquet id bibendum ac, consequat ut ligula. Quisque mollis ex ac placerat vehicula. Vestibulum eget mi posuere, iaculis nibh non, consectetur mauris. Phasellus et tempus diam, non blandit dolor. Sed nisi orci, euismod nec purus sit amet, placerat viverra arcu. Donec iaculis eros nec diam lobortis laoreet. Etiam a sapien quis ipsum vestibulum fringilla ac et justo. Suspendisse hendrerit ligula ac rhoncus tempus. Morbi laoreet consequat dui. Proin felis nibh, tincidunt ut leo a, vulputate semper urna.  Proin commodo accumsan sodales. Suspendisse porta ante ac mauris tincidunt vulputate. Donec suscipit quam quam, ac pretium nisi elementum eget. Nunc nec finibus ipsum. Donec urna velit, porttitor non turpis eu, ultrices suscipit justo. Nulla facilisi. Nam interdum, libero vel scelerisque semper, nunc massa venenatis nulla, dapibus semper tellus lorem at libero. Cras maximus nunc id nisi maximus, ac fringilla tellus rutrum. Vestibulum at sapien ligula. Morbi fermentum mollis dolor ac blandit. Nullam a sagittis elit. Vestibulum sed eros gravida, fringilla ipsum vel, pulvinar est. Duis finibus molestie dui sit amet tristique. Vestibulum molestie vulputate posuere. Cras sollicitudin sagittis metus, ac accumsan odio semper quis. In malesuada nunc et ex posuere, et dapibus erat hendrerit.  Nulla a gravida enim. Vestibulum non ex id dolor accumsan maximus. Nullam sagittis, eros non aliquam rutrum, est lectus vehicula est, sit amet sagittis nunc velit non sapien. Nullam eu nisl a ex congue ornare. Nunc porttitor maximus risus, vel efficitur odio feugiat sed. Ut eleifend erat enim, nec tempor dolor pellentesque in. Mauris interdum rhoncus ex, vitae condimentum neque gravida sit amet. Suspendisse tempor eu diam quis gravida.  Vivamus dignissim erat at leo sagittis fermentum. Proin id dapibus nisi. Suspendisse sodales lorem eu ullamcorper tempus. Aenean in tellus facilisis, feugiat neque nec, tincidunt elit. Donec felis erat, molestie quis volutpat at, bibendum id est. Pellentesque habitant morbi tristique senectus et netus et malesuada fames.\"\"\"\n",
        "\n",
        "def histogram(elems):\n",
        "    \"\"\" \n",
        "        Algorithm to create and return a dictionary <key, value>, where 'key' belong\n",
        "        to the input collection 'elems', and 'value' if the count of how many time \n",
        "        'key' appear in 'elems' (frequency)\n",
        "        \n",
        "        Args:\n",
        "                 elems: a list of elements with replications\n",
        "        Returns:\n",
        "                 the created dictionary\n",
        "    \"\"\"\n",
        "\n",
        "    histo = dict()   # is the same as histo = {}\n",
        "    # for each e in the list elems\n",
        "    for e in elems:\n",
        "        e = e.lower()\n",
        "        if e not in histo:  # check if e was already found and previously inserted\n",
        "            histo[e] = 1   # otherwise introduce a new pair (e:1)\n",
        "        else:\n",
        "            histo[e] = histo[e] + 1 # if YES then update the associated value (+1)\n",
        "\n",
        "    return histo\n",
        "\n",
        "lorem_clean = [x for x in lorem.lower() if x in 'qwertyuiopasdfghjklzxcvbnm']\n",
        "words = lorem.split()\n",
        "hist_dict = histogram(words)\n",
        "print(histogram(elems=lorem))"
      ],
      "execution_count": null,
      "outputs": [
        {
          "output_type": "stream",
          "text": [
            "{'l': 1621, 'o': 1222, 'r': 1542, 'e': 3157, 'm': 1280, ' ': 5053, 'i': 2747, 'p': 709, 's': 2352, 'u': 2495, 'd': 801, 't': 2284, 'a': 2300, ',': 448, 'c': 1147, 'n': 1716, 'g': 381, '.': 641, 'q': 363, 'h': 169, 'v': 473, 'b': 327, 'x': 51, 'f': 282, 'j': 29, ';': 4}\n"
          ],
          "name": "stdout"
        }
      ]
    },
    {
      "cell_type": "markdown",
      "metadata": {
        "id": "hYRfWF0g_AMP"
      },
      "source": [
        "### Invert the histogram\n",
        "\n",
        "An interesting exercise is to invert the dictionary: for each value identify the list of keys that map to the same value. \n",
        "\n",
        "The following figure illustrates a dictionary along with the inverted dictionary, where the original dictionary maps single words to integer counts.\n",
        "\n",
        "![inv-hist.png](attachment:inv-hist.png)\n",
        "\n",
        "We apply the new function ```def invert_dict(d)``` to the histogram dictionary of all the words of the latin text before. \n",
        "Hence, for each count the inverted dictionary identifies a list of words that occur the same number of times.\n",
        "\n",
        "Then we print the most frequent words, with the corresponding counts."
      ]
    },
    {
      "cell_type": "code",
      "metadata": {
        "id": "MUXKRW3Q_AMQ",
        "outputId": "9005b0e6-bb09-4994-c7dd-37703bc73294",
        "colab": {
          "base_uri": "https://localhost:8080/"
        }
      },
      "source": [
        "def invert_dict(d):\n",
        "    \"\"\" \n",
        "        Algorithm to invert the input dictionary 'd', returning a new dictionary.\n",
        "        Each 'key' of the new dictionary is a 'value' of the old one.\n",
        "        Each 'value' of the new dictionary is a list of keys of the old dictionary, each mapping \n",
        "        to the same value (the new key)\n",
        "                \n",
        "        Args:\n",
        "                 d: the old dictionary\n",
        "        Returns:\n",
        "                 the created new inverted dictionary\n",
        "    \"\"\"\n",
        "    inverse = dict() # the new dictionary\n",
        "    for key in d:\n",
        "        val = d[key] # extract the counter\n",
        "        if val not in inverse: \n",
        "            inverse[val] = [key]\n",
        "        else:\n",
        "            inverse[val].append(key) # append the word to the existing list corresponding to the counter\n",
        "    return inverse\n",
        "\n",
        "\n",
        "\n",
        "# So-called Decorate-Sort-Undecorate syntax\n",
        "# https://docs.python.org/3/howto/sorting.html#the-old-way-using-decorate-sort-undecorate\n",
        "inverted = invert_dict(hist_dict)\n",
        "list_vals = [(k,v) for (k,v) in inverted.items()] \n",
        "list_vals.sort(reverse = True)\n",
        "\n",
        "for i in list_vals[:20]:  # scan the top frequent elements\n",
        "        print(i[1],':',i[0])\n"
      ],
      "execution_count": null,
      "outputs": [
        {
          "output_type": "stream",
          "text": [
            "['sed'] : 94\n",
            "['in'] : 73\n",
            "['et'] : 70\n",
            "['ut'] : 66\n",
            "['ac'] : 63\n",
            "['non', 'at'] : 62\n",
            "['sit', 'quis'] : 61\n",
            "['eget'] : 59\n",
            "['nunc'] : 57\n",
            "['a'] : 56\n",
            "['vel', 'eu'] : 49\n",
            "['nec'] : 48\n",
            "['amet'] : 47\n",
            "['vitae', 'nulla', 'vestibulum'] : 44\n",
            "['id'] : 42\n",
            "['aliquam'] : 39\n",
            "['pellentesque', 'tincidunt'] : 37\n",
            "['lorem'] : 35\n",
            "['donec'] : 34\n",
            "['ante'] : 33\n"
          ],
          "name": "stdout"
        }
      ]
    },
    {
      "cell_type": "markdown",
      "metadata": {
        "id": "ME6tIVb7_AMU"
      },
      "source": [
        "## More operations with dictionaries\n",
        "\n",
        "The decorate-sort-undecorate syntax works because tuples (the elements returned by  `.index()`) are sorted lexicographically like strings, so the first element is checked before the second. \n",
        "\n",
        "Can we always sort the elements of a dictionary directly, using sorting functions? "
      ]
    },
    {
      "cell_type": "code",
      "metadata": {
        "id": "y7j9e1Vm_AMU",
        "outputId": "52bc6c77-76b3-4fdd-c21c-b0f3dd37ca73",
        "colab": {
          "base_uri": "https://localhost:8080/",
          "height": 213
        }
      },
      "source": [
        "a = {}\n",
        "a['1'] = 1\n",
        "a[1] = 2\n",
        "sorted(a.values())\n",
        "sorted(a.items())\n",
        "sorted(a.keys())"
      ],
      "execution_count": null,
      "outputs": [
        {
          "output_type": "error",
          "ename": "TypeError",
          "evalue": "ignored",
          "traceback": [
            "\u001b[0;31m---------------------------------------------------------------------------\u001b[0m",
            "\u001b[0;31mTypeError\u001b[0m                                 Traceback (most recent call last)",
            "\u001b[0;32m<ipython-input-17-b625b6046729>\u001b[0m in \u001b[0;36m<module>\u001b[0;34m()\u001b[0m\n\u001b[1;32m      3\u001b[0m \u001b[0ma\u001b[0m\u001b[0;34m[\u001b[0m\u001b[0;36m1\u001b[0m\u001b[0;34m]\u001b[0m \u001b[0;34m=\u001b[0m \u001b[0;36m2\u001b[0m\u001b[0;34m\u001b[0m\u001b[0;34m\u001b[0m\u001b[0m\n\u001b[1;32m      4\u001b[0m \u001b[0msorted\u001b[0m\u001b[0;34m(\u001b[0m\u001b[0ma\u001b[0m\u001b[0;34m.\u001b[0m\u001b[0mvalues\u001b[0m\u001b[0;34m(\u001b[0m\u001b[0;34m)\u001b[0m\u001b[0;34m)\u001b[0m\u001b[0;34m\u001b[0m\u001b[0;34m\u001b[0m\u001b[0m\n\u001b[0;32m----> 5\u001b[0;31m \u001b[0msorted\u001b[0m\u001b[0;34m(\u001b[0m\u001b[0ma\u001b[0m\u001b[0;34m.\u001b[0m\u001b[0mitems\u001b[0m\u001b[0;34m(\u001b[0m\u001b[0;34m)\u001b[0m\u001b[0;34m)\u001b[0m\u001b[0;34m\u001b[0m\u001b[0;34m\u001b[0m\u001b[0m\n\u001b[0m\u001b[1;32m      6\u001b[0m \u001b[0msorted\u001b[0m\u001b[0;34m(\u001b[0m\u001b[0ma\u001b[0m\u001b[0;34m.\u001b[0m\u001b[0mkeys\u001b[0m\u001b[0;34m(\u001b[0m\u001b[0;34m)\u001b[0m\u001b[0;34m)\u001b[0m\u001b[0;34m\u001b[0m\u001b[0;34m\u001b[0m\u001b[0m\n",
            "\u001b[0;31mTypeError\u001b[0m: '<' not supported between instances of 'int' and 'str'"
          ]
        }
      ]
    },
    {
      "cell_type": "markdown",
      "metadata": {
        "id": "4Z_JPV_W_AMX"
      },
      "source": [
        "We can sort only data that *can* be sorted, and keys can not be sorted if they are of kinds that don't have a sorting operator, so in principle, we can not sort a dictionary. If we know the keys are sortable we can sort them."
      ]
    },
    {
      "cell_type": "code",
      "metadata": {
        "id": "txdQdPup_AMY",
        "outputId": "be5b84ff-a77c-4511-fe2c-7542e5be5e3f",
        "colab": {
          "base_uri": "https://localhost:8080/"
        }
      },
      "source": [
        "a = {1:'1', 2:'2', 3:'3', 4:'4'}\n",
        "\n",
        "print(sorted(a.values()))\n",
        "print(sorted(a.items()))\n",
        "print(sorted(a.keys()))"
      ],
      "execution_count": null,
      "outputs": [
        {
          "output_type": "stream",
          "text": [
            "['1', '2', '3', '4']\n",
            "[(1, '1'), (2, '2'), (3, '3'), (4, '4')]\n",
            "[1, 2, 3, 4]\n"
          ],
          "name": "stdout"
        }
      ]
    },
    {
      "cell_type": "markdown",
      "metadata": {
        "id": "3vTxmEJ5_AMb"
      },
      "source": [
        "can we sort the keys of a dictionary based on the values, with `sorted()` without inverting the dictionary with the previous function?"
      ]
    },
    {
      "cell_type": "code",
      "metadata": {
        "id": "NiL_rtHE_AMb",
        "outputId": "bd6d179c-4e50-4f01-91af-9d610d7ac486",
        "colab": {
          "base_uri": "https://localhost:8080/"
        }
      },
      "source": [
        "a = {'Mar':3, 'Jan':1, 'Feb':2}\n",
        "# 'manual' way:\n",
        "\n",
        "# same way as before\n",
        "reversed_items = [(x[1],x[0]) for x in a.items()]\n",
        "print(reversed_items)\n",
        "sorted_items = sorted(reversed_items)      # sorted sorts for the first item of every couple\n",
        "print(sorted_items)\n",
        "print([x[1] for x in sorted_items])        # only the keys\n",
        "\n",
        "# the lambda way!\n",
        "\n",
        "print([x[0] for x in sorted(a.items(), key = lambda y: y[1])])"
      ],
      "execution_count": null,
      "outputs": [
        {
          "output_type": "stream",
          "text": [
            "[(3, 'Mar'), (1, 'Jan'), (2, 'Feb')]\n",
            "[(1, 'Jan'), (2, 'Feb'), (3, 'Mar')]\n",
            "['Jan', 'Feb', 'Mar']\n",
            "['Jan', 'Feb', 'Mar']\n"
          ],
          "name": "stdout"
        }
      ]
    },
    {
      "cell_type": "markdown",
      "metadata": {
        "collapsed": true,
        "id": "C6oxXMtb_AMe"
      },
      "source": [
        "## Exercises\n",
        "\n",
        "1. Write a Python function to combine two dictionaries, by adding values for common keys. \n",
        "3. Write a function that takes a date in the “dd-MMM-yy” format (a string, where `MMM` is the month in alphabetic format, like \"aug\") and responds with a tuple of integers ```(y, m, d)```."
      ]
    },
    {
      "cell_type": "code",
      "metadata": {
        "id": "Bm2rhh8W_AMe",
        "outputId": "c26e4e99-a0ec-460b-c2f7-734e708bb464",
        "colab": {
          "base_uri": "https://localhost:8080/"
        }
      },
      "source": [
        "# Write a Python function to combine two dictionaries, by adding values for common keys. \n",
        "\n",
        "def merge_dicts(left, right):\n",
        "    merged_dict = {} # empty dictionary\n",
        "    for k in left:\n",
        "        merged_dict[k] = left[k]\n",
        "    # merged_dict = dict(left) # alternative way: this is creating a new dictionary, \n",
        "                               # with copied values from \"left\"\n",
        "    for k in right:\n",
        "        if k in merged_dict: # recall: you can not increment a number if it does not exists\n",
        "                             # in the dictionary, you need to check before\n",
        "            merged_dict[k] += right[k] \n",
        "        else:\n",
        "            merged_dict[k] = right[k] \n",
        "    return merged_dict\n",
        "\n",
        "left = {'a':1, 'b':1, 'c':1}\n",
        "right = {'b':1, 'd':1}\n",
        "print(merge_dicts(left, right))"
      ],
      "execution_count": null,
      "outputs": [
        {
          "output_type": "stream",
          "text": [
            "{'a': 1, 'b': 2, 'c': 1, 'd': 1}\n"
          ],
          "name": "stdout"
        }
      ]
    },
    {
      "cell_type": "code",
      "metadata": {
        "id": "3fewqgFb_AMi",
        "outputId": "07942f81-63ba-4071-87de-b96e8274c0bc",
        "colab": {
          "base_uri": "https://localhost:8080/"
        }
      },
      "source": [
        "# Write a function that takes a date in the “dd-MMM-yy” format \n",
        "# (a string, where MMM is the month in alphabetic format, like \"aug\") \n",
        "# and responds with a tuple of integers (y, m, d).\n",
        "\n",
        "months = {\"Jan\":1, \"Feb\":2, \"Mar\":3, \"Apr\":4, \n",
        "           \"May\":5, \"Jun\":6, \"Jul\":7, \"Aug\":8, \n",
        "           \"Sep\":9, \"Oct\":10, \"Nov\":11, \"Dec\":12}\n",
        "\n",
        "def parse_date(date):\n",
        "    day, month, year = date.split('-')\n",
        "    if month not in months:\n",
        "        print(\"Invalid month string\")\n",
        "        return\n",
        "    return (int(day), months[month], int(year))\n",
        "\n",
        "print(parse_date(\"10-Aug-99\"))   "
      ],
      "execution_count": null,
      "outputs": [
        {
          "output_type": "stream",
          "text": [
            "(10, 8, 99)\n"
          ],
          "name": "stdout"
        }
      ]
    },
    {
      "cell_type": "markdown",
      "metadata": {
        "id": "PqgPMd3w_AMl"
      },
      "source": [
        "# More Exercises: Physics, Computer Science & Statistics\n",
        "\n",
        "\n",
        "![oscillator.gif](attachment:oscillator.gif)\n",
        "\n",
        " 1. An Harmonic oscillator (as in the pic from wikipedia) respects the following equation:\n",
        " \n",
        "$ x(t) = A cos(\\omega t + \\phi)$\n",
        "\n",
        "Let $A=1, \\omega=\\pi, \\phi=0$ and let the oscillator run for half a period (t=0, t=1). Sample 1000 values of $x$ and make a dictionary in which you divide the $x \\in [-1,1]$ in 10 intervals, count how many samples fall in each interval. Use the `math.cos()` function.\n",
        " 2. The kinetic energy of the body is given by (assume $m=1$):\n",
        "\n",
        "$ K(t) = \\frac{1}{2} m (v(t))^2 = \\frac{1}{2} m (x'(t))^2 = \\frac{m}{2}(-Asin(\\omega t + \\phi))^2 = \\frac{1}{2}sin^2(\\pi t)$\n",
        "\n",
        "Do the same sampling with the kinetic energy as you did with the position.\n",
        "\n",
        " 3. For each bin you used for sampling the position, compute the average kinetic energy for the samples of the energy in that bin. Print the position, the number of sampled position points and the average sampled energy."
      ]
    }
  ]
}